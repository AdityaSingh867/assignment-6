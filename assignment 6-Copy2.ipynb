{
 "cells": [
  {
   "cell_type": "markdown",
   "id": "e50f4fae-0367-4759-b526-dbc14c0c294d",
   "metadata": {},
   "source": [
    "ASSIGNMENT 2:\n",
    "\n",
    "Q1\n",
    "\n",
    "Ans 1 --"
   ]
  },
  {
   "cell_type": "code",
   "execution_count": 4,
   "id": "772db794-3cd2-4400-a117-4055e0e796b9",
   "metadata": {},
   "outputs": [
    {
     "name": "stdin",
     "output_type": "stream",
     "text": [
      "type your marks 94\n"
     ]
    },
    {
     "name": "stdout",
     "output_type": "stream",
     "text": [
      "Grade A\n"
     ]
    }
   ],
   "source": [
    "marks = int(input('type your marks'))\n",
    "if marks >90:\n",
    "    print('Grade A')\n",
    "elif marks >80 and marks <= 90:\n",
    "    print('Grade B')\n",
    "elif marks >= 60 and marks <= 80:\n",
    "    print('Grade C')\n",
    "else : \n",
    "    print('Grade D')"
   ]
  },
  {
   "cell_type": "markdown",
   "id": "81af8df2-4dd4-4859-a335-05d02c6cd063",
   "metadata": {},
   "source": [
    "Q2\n",
    "\n",
    "Ans 2 --"
   ]
  },
  {
   "cell_type": "code",
   "execution_count": 5,
   "id": "dbb0b812-7c45-4973-9ab5-264d4b2c2305",
   "metadata": {},
   "outputs": [
    {
     "name": "stdin",
     "output_type": "stream",
     "text": [
      "price of bike 56788\n"
     ]
    },
    {
     "name": "stdout",
     "output_type": "stream",
     "text": [
      "3178.8\n"
     ]
    }
   ],
   "source": [
    "price = int(input('price of bike'))\n",
    "tax = 0\n",
    "if price > 0 and price <= 50000:\n",
    "    tax = 50000*5/100\n",
    "elif price > 50000 and price <= 100000:\n",
    "    tax = 50000*5/100 + (price - 50000)*10/100\n",
    "else:\n",
    "    tax = 50000*5/100 + 50000*10/100 + (price - 100000)*15/100\n",
    "print(tax)"
   ]
  },
  {
   "cell_type": "markdown",
   "id": "e28b52d9-1252-47c4-a534-7cc5f9e1b67d",
   "metadata": {},
   "source": [
    "Q3\n",
    "\n",
    "Ans 3 --"
   ]
  },
  {
   "cell_type": "code",
   "execution_count": 6,
   "id": "46d7398a-c031-476c-8c7d-0f69a673c6c8",
   "metadata": {},
   "outputs": [
    {
     "name": "stdin",
     "output_type": "stream",
     "text": [
      "type city name Agra\n"
     ]
    },
    {
     "name": "stdout",
     "output_type": "stream",
     "text": [
      "Taj Mahal\n"
     ]
    }
   ],
   "source": [
    "city = input('type city name')\n",
    "if city == 'Delhi':\n",
    "    print('Red Fort')\n",
    "elif city == 'Agra':\n",
    "    print('Taj Mahal')\n",
    "elif city == 'Jaipur':\n",
    "    print('Jal Mahal')"
   ]
  },
  {
   "cell_type": "markdown",
   "id": "04ccdc4c-057b-4b25-9380-6090d740ab57",
   "metadata": {},
   "source": [
    "Q4\n",
    "\n",
    "Ans 4 --"
   ]
  },
  {
   "cell_type": "code",
   "execution_count": 8,
   "id": "a33c8730-5d94-4f0c-b1d8-e86c9039e167",
   "metadata": {},
   "outputs": [
    {
     "name": "stdin",
     "output_type": "stream",
     "text": [
      "Enter a number:  646564564\n"
     ]
    },
    {
     "name": "stdout",
     "output_type": "stream",
     "text": [
      "17\n"
     ]
    }
   ],
   "source": [
    "number = int(input(\"Enter a number: \"))\n",
    "count = 0\n",
    "\n",
    "while number >= 10:\n",
    "    number = number/3\n",
    "    count = count + 1\n",
    "\n",
    "print(count)"
   ]
  },
  {
   "cell_type": "markdown",
   "id": "a943f1c6-0478-44df-b5e6-43f2607c5073",
   "metadata": {},
   "source": [
    "Q5\n",
    "\n",
    "Ans 5 --"
   ]
  },
  {
   "cell_type": "markdown",
   "id": "2f310b16-00d0-47ac-a816-325150b45bb3",
   "metadata": {},
   "source": [
    "'while' loop is control a flow of statement. 'while' loop is work same as 'for' loop, but while loop is useful when you need to 'run' and 'repeat' a block of code in specific condition is met , when you don't know how many time of code need to executed so code is not run because 'while' loop check first condition and than execute code for us. EXAMPLE : --"
   ]
  },
  {
   "cell_type": "code",
   "execution_count": 9,
   "id": "dccab834-d623-409a-b203-738232dfcc73",
   "metadata": {},
   "outputs": [
    {
     "name": "stdout",
     "output_type": "stream",
     "text": [
      "0\n",
      "1\n",
      "2\n",
      "3\n",
      "4\n",
      "5\n",
      "6\n",
      "7\n",
      "8\n",
      "9\n",
      "10\n"
     ]
    }
   ],
   "source": [
    "count = 0\n",
    "while count <=10:\n",
    "    print(count)\n",
    "    count = count + 1"
   ]
  },
  {
   "cell_type": "markdown",
   "id": "a368aff3-e1c6-4ede-baf5-67005b51a15f",
   "metadata": {},
   "source": [
    "Q6\n",
    "\n",
    "Ans 6 --"
   ]
  },
  {
   "cell_type": "code",
   "execution_count": 1,
   "id": "c7f982ad-7ed4-48dc-b9cb-6be203322e8f",
   "metadata": {},
   "outputs": [
    {
     "name": "stdout",
     "output_type": "stream",
     "text": [
      "    +\n",
      "   +++\n",
      "  +++++\n",
      " +++++++\n",
      "+++++++++\n"
     ]
    }
   ],
   "source": [
    "k = 1\n",
    "i = 1\n",
    "while i <= 5:\n",
    "    b = 1\n",
    "    while b <= 5 - i:\n",
    "        print(' ' , end = '')\n",
    "        b = b + 1\n",
    "    j = 1 \n",
    "    while j <= k :\n",
    "        print('+' , end = '')\n",
    "        j = j + 1\n",
    "    k = k + 2\n",
    "    print()\n",
    "    i = i + 1"
   ]
  },
  {
   "cell_type": "markdown",
   "id": "40a061d5-300f-4418-bf18-a79edbbfe183",
   "metadata": {},
   "source": [
    "Q7 \n",
    "\n",
    "Ans 6 --"
   ]
  },
  {
   "cell_type": "code",
   "execution_count": 2,
   "id": "da9fc2ad-a190-4a42-a0de-cd01a0f2364c",
   "metadata": {},
   "outputs": [
    {
     "name": "stdin",
     "output_type": "stream",
     "text": [
      "Enter the number of rows for the star triangle:  4\n"
     ]
    },
    {
     "name": "stdout",
     "output_type": "stream",
     "text": [
      "   *\n",
      "  ***\n",
      " *****\n",
      "*******\n"
     ]
    }
   ],
   "source": [
    "num_rows = int(input(\"Enter the number of rows for the star triangle: \"))\n",
    "for i in range(num_rows):\n",
    "    for j in range(num_rows - i - 1):\n",
    "        print(\" \", end=\"\")\n",
    "   \n",
    "    for j in range(2 * i + 1):\n",
    "        print(\"*\", end=\"\")\n",
    "   \n",
    "    print()\n"
   ]
  },
  {
   "cell_type": "code",
   "execution_count": 1,
   "id": "043be029-01f1-4fe6-80b7-6428f702facd",
   "metadata": {},
   "outputs": [
    {
     "name": "stdout",
     "output_type": "stream",
     "text": [
      "10\n",
      "9\n",
      "8\n",
      "7\n",
      "6\n",
      "5\n",
      "4\n",
      "3\n",
      "2\n",
      "1\n"
     ]
    }
   ],
   "source": [
    "i = 10\n",
    "while i > 0 :\n",
    "    print(i)\n",
    "    i = i - 1"
   ]
  },
  {
   "cell_type": "markdown",
   "id": "7a5670c2-eefb-4a39-8509-34495f90f6be",
   "metadata": {},
   "source": [
    "Q8 \n",
    "\n",
    "Ans 8 --"
   ]
  },
  {
   "cell_type": "markdown",
   "id": "a0073137-4d7c-4042-a551-494750d1f672",
   "metadata": {},
   "source": [
    "question 7 and 8 both are same"
   ]
  },
  {
   "cell_type": "code",
   "execution_count": 2,
   "id": "5d8f40aa-186e-476e-b96a-c39dd8aa51a7",
   "metadata": {},
   "outputs": [
    {
     "name": "stdout",
     "output_type": "stream",
     "text": [
      "10\n",
      "9\n",
      "8\n",
      "7\n",
      "6\n",
      "5\n",
      "4\n",
      "3\n",
      "2\n",
      "1\n"
     ]
    }
   ],
   "source": [
    "a = 10\n",
    "while a > 0 :\n",
    "    print(a)\n",
    "    a = a - 1"
   ]
  },
  {
   "cell_type": "code",
   "execution_count": null,
   "id": "e1bc43cd-9490-4847-b387-9c3151987087",
   "metadata": {},
   "outputs": [],
   "source": []
  }
 ],
 "metadata": {
  "kernelspec": {
   "display_name": "Python 3 (ipykernel)",
   "language": "python",
   "name": "python3"
  },
  "language_info": {
   "codemirror_mode": {
    "name": "ipython",
    "version": 3
   },
   "file_extension": ".py",
   "mimetype": "text/x-python",
   "name": "python",
   "nbconvert_exporter": "python",
   "pygments_lexer": "ipython3",
   "version": "3.10.8"
  }
 },
 "nbformat": 4,
 "nbformat_minor": 5
}
